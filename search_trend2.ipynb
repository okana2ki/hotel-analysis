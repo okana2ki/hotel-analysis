{
  "nbformat": 4,
  "nbformat_minor": 0,
  "metadata": {
    "colab": {
      "provenance": [],
      "toc_visible": true,
      "mount_file_id": "1ZwdcNjgay1fLpl9eXcKko8uMq5A_FxOW",
      "authorship_tag": "ABX9TyP/u26/DAo0vMFG0PdpjH8l",
      "include_colab_link": true
    },
    "kernelspec": {
      "name": "python3",
      "display_name": "Python 3"
    },
    "language_info": {
      "name": "python"
    }
  },
  "cells": [
    {
      "cell_type": "markdown",
      "metadata": {
        "id": "view-in-github",
        "colab_type": "text"
      },
      "source": [
        "<a href=\"https://colab.research.google.com/github/okana2ki/hotel-analysis/blob/main/search_trend2.ipynb\" target=\"_parent\"><img src=\"https://colab.research.google.com/assets/colab-badge.svg\" alt=\"Open In Colab\"/></a>"
      ]
    },
    {
      "cell_type": "markdown",
      "source": [
        "Colabで開いたら、まず、↑上部の「ドライブにコピー」をクリックして下さい。このノートブックがGoogleドライブの [マイドライブ > Colab Notebooks] に保存され、その後加えた変更がそこに自動保存されるようになります。"
      ],
      "metadata": {
        "id": "4i9S5jxFANDL"
      }
    },
    {
      "cell_type": "markdown",
      "source": [
        "# 可視化によるデータの把握"
      ],
      "metadata": {
        "id": "Q_X3Uy6WFyzp"
      }
    },
    {
      "cell_type": "code",
      "source": [
        "# まず、アップロードされたファイルの中身を読んで、その構造とデータを理解しよう。\n",
        "import pandas as pd\n",
        "\n",
        "# CSVファイルを読み込む\n",
        "file_path = '/content/drive/MyDrive/Colab_files/sekitotaka.csv'\n",
        "data = pd.read_csv(file_path)\n",
        "\n",
        "# データフレームの構造を理解するために、データフレームの最初の数行を表示する。\n",
        "data.head()\n"
      ],
      "metadata": {
        "colab": {
          "base_uri": "https://localhost:8080/",
          "height": 206
        },
        "id": "5QMrvvVHRMCV",
        "outputId": "bdc6e994-d1a1-42fd-a5d9-cbcddbfac544"
      },
      "execution_count": 1,
      "outputs": [
        {
          "output_type": "execute_result",
          "data": {
            "text/plain": [
              "    nen  tuki  sekino  takatihob\n",
              "0  2014     4      12         40\n",
              "1  2014     5      17         79\n",
              "2  2014     6       8         27\n",
              "3  2014     7      16         33\n",
              "4  2014     8      17         50"
            ],
            "text/html": [
              "\n",
              "  <div id=\"df-ae665588-c3da-41f7-a7e4-e883cea96d0d\" class=\"colab-df-container\">\n",
              "    <div>\n",
              "<style scoped>\n",
              "    .dataframe tbody tr th:only-of-type {\n",
              "        vertical-align: middle;\n",
              "    }\n",
              "\n",
              "    .dataframe tbody tr th {\n",
              "        vertical-align: top;\n",
              "    }\n",
              "\n",
              "    .dataframe thead th {\n",
              "        text-align: right;\n",
              "    }\n",
              "</style>\n",
              "<table border=\"1\" class=\"dataframe\">\n",
              "  <thead>\n",
              "    <tr style=\"text-align: right;\">\n",
              "      <th></th>\n",
              "      <th>nen</th>\n",
              "      <th>tuki</th>\n",
              "      <th>sekino</th>\n",
              "      <th>takatihob</th>\n",
              "    </tr>\n",
              "  </thead>\n",
              "  <tbody>\n",
              "    <tr>\n",
              "      <th>0</th>\n",
              "      <td>2014</td>\n",
              "      <td>4</td>\n",
              "      <td>12</td>\n",
              "      <td>40</td>\n",
              "    </tr>\n",
              "    <tr>\n",
              "      <th>1</th>\n",
              "      <td>2014</td>\n",
              "      <td>5</td>\n",
              "      <td>17</td>\n",
              "      <td>79</td>\n",
              "    </tr>\n",
              "    <tr>\n",
              "      <th>2</th>\n",
              "      <td>2014</td>\n",
              "      <td>6</td>\n",
              "      <td>8</td>\n",
              "      <td>27</td>\n",
              "    </tr>\n",
              "    <tr>\n",
              "      <th>3</th>\n",
              "      <td>2014</td>\n",
              "      <td>7</td>\n",
              "      <td>16</td>\n",
              "      <td>33</td>\n",
              "    </tr>\n",
              "    <tr>\n",
              "      <th>4</th>\n",
              "      <td>2014</td>\n",
              "      <td>8</td>\n",
              "      <td>17</td>\n",
              "      <td>50</td>\n",
              "    </tr>\n",
              "  </tbody>\n",
              "</table>\n",
              "</div>\n",
              "    <div class=\"colab-df-buttons\">\n",
              "\n",
              "  <div class=\"colab-df-container\">\n",
              "    <button class=\"colab-df-convert\" onclick=\"convertToInteractive('df-ae665588-c3da-41f7-a7e4-e883cea96d0d')\"\n",
              "            title=\"Convert this dataframe to an interactive table.\"\n",
              "            style=\"display:none;\">\n",
              "\n",
              "  <svg xmlns=\"http://www.w3.org/2000/svg\" height=\"24px\" viewBox=\"0 -960 960 960\">\n",
              "    <path d=\"M120-120v-720h720v720H120Zm60-500h600v-160H180v160Zm220 220h160v-160H400v160Zm0 220h160v-160H400v160ZM180-400h160v-160H180v160Zm440 0h160v-160H620v160ZM180-180h160v-160H180v160Zm440 0h160v-160H620v160Z\"/>\n",
              "  </svg>\n",
              "    </button>\n",
              "\n",
              "  <style>\n",
              "    .colab-df-container {\n",
              "      display:flex;\n",
              "      gap: 12px;\n",
              "    }\n",
              "\n",
              "    .colab-df-convert {\n",
              "      background-color: #E8F0FE;\n",
              "      border: none;\n",
              "      border-radius: 50%;\n",
              "      cursor: pointer;\n",
              "      display: none;\n",
              "      fill: #1967D2;\n",
              "      height: 32px;\n",
              "      padding: 0 0 0 0;\n",
              "      width: 32px;\n",
              "    }\n",
              "\n",
              "    .colab-df-convert:hover {\n",
              "      background-color: #E2EBFA;\n",
              "      box-shadow: 0px 1px 2px rgba(60, 64, 67, 0.3), 0px 1px 3px 1px rgba(60, 64, 67, 0.15);\n",
              "      fill: #174EA6;\n",
              "    }\n",
              "\n",
              "    .colab-df-buttons div {\n",
              "      margin-bottom: 4px;\n",
              "    }\n",
              "\n",
              "    [theme=dark] .colab-df-convert {\n",
              "      background-color: #3B4455;\n",
              "      fill: #D2E3FC;\n",
              "    }\n",
              "\n",
              "    [theme=dark] .colab-df-convert:hover {\n",
              "      background-color: #434B5C;\n",
              "      box-shadow: 0px 1px 3px 1px rgba(0, 0, 0, 0.15);\n",
              "      filter: drop-shadow(0px 1px 2px rgba(0, 0, 0, 0.3));\n",
              "      fill: #FFFFFF;\n",
              "    }\n",
              "  </style>\n",
              "\n",
              "    <script>\n",
              "      const buttonEl =\n",
              "        document.querySelector('#df-ae665588-c3da-41f7-a7e4-e883cea96d0d button.colab-df-convert');\n",
              "      buttonEl.style.display =\n",
              "        google.colab.kernel.accessAllowed ? 'block' : 'none';\n",
              "\n",
              "      async function convertToInteractive(key) {\n",
              "        const element = document.querySelector('#df-ae665588-c3da-41f7-a7e4-e883cea96d0d');\n",
              "        const dataTable =\n",
              "          await google.colab.kernel.invokeFunction('convertToInteractive',\n",
              "                                                    [key], {});\n",
              "        if (!dataTable) return;\n",
              "\n",
              "        const docLinkHtml = 'Like what you see? Visit the ' +\n",
              "          '<a target=\"_blank\" href=https://colab.research.google.com/notebooks/data_table.ipynb>data table notebook</a>'\n",
              "          + ' to learn more about interactive tables.';\n",
              "        element.innerHTML = '';\n",
              "        dataTable['output_type'] = 'display_data';\n",
              "        await google.colab.output.renderOutput(dataTable, element);\n",
              "        const docLink = document.createElement('div');\n",
              "        docLink.innerHTML = docLinkHtml;\n",
              "        element.appendChild(docLink);\n",
              "      }\n",
              "    </script>\n",
              "  </div>\n",
              "\n",
              "\n",
              "<div id=\"df-d12e90a4-811b-4052-86d8-25100f5cc482\">\n",
              "  <button class=\"colab-df-quickchart\" onclick=\"quickchart('df-d12e90a4-811b-4052-86d8-25100f5cc482')\"\n",
              "            title=\"Suggest charts\"\n",
              "            style=\"display:none;\">\n",
              "\n",
              "<svg xmlns=\"http://www.w3.org/2000/svg\" height=\"24px\"viewBox=\"0 0 24 24\"\n",
              "     width=\"24px\">\n",
              "    <g>\n",
              "        <path d=\"M19 3H5c-1.1 0-2 .9-2 2v14c0 1.1.9 2 2 2h14c1.1 0 2-.9 2-2V5c0-1.1-.9-2-2-2zM9 17H7v-7h2v7zm4 0h-2V7h2v10zm4 0h-2v-4h2v4z\"/>\n",
              "    </g>\n",
              "</svg>\n",
              "  </button>\n",
              "\n",
              "<style>\n",
              "  .colab-df-quickchart {\n",
              "      --bg-color: #E8F0FE;\n",
              "      --fill-color: #1967D2;\n",
              "      --hover-bg-color: #E2EBFA;\n",
              "      --hover-fill-color: #174EA6;\n",
              "      --disabled-fill-color: #AAA;\n",
              "      --disabled-bg-color: #DDD;\n",
              "  }\n",
              "\n",
              "  [theme=dark] .colab-df-quickchart {\n",
              "      --bg-color: #3B4455;\n",
              "      --fill-color: #D2E3FC;\n",
              "      --hover-bg-color: #434B5C;\n",
              "      --hover-fill-color: #FFFFFF;\n",
              "      --disabled-bg-color: #3B4455;\n",
              "      --disabled-fill-color: #666;\n",
              "  }\n",
              "\n",
              "  .colab-df-quickchart {\n",
              "    background-color: var(--bg-color);\n",
              "    border: none;\n",
              "    border-radius: 50%;\n",
              "    cursor: pointer;\n",
              "    display: none;\n",
              "    fill: var(--fill-color);\n",
              "    height: 32px;\n",
              "    padding: 0;\n",
              "    width: 32px;\n",
              "  }\n",
              "\n",
              "  .colab-df-quickchart:hover {\n",
              "    background-color: var(--hover-bg-color);\n",
              "    box-shadow: 0 1px 2px rgba(60, 64, 67, 0.3), 0 1px 3px 1px rgba(60, 64, 67, 0.15);\n",
              "    fill: var(--button-hover-fill-color);\n",
              "  }\n",
              "\n",
              "  .colab-df-quickchart-complete:disabled,\n",
              "  .colab-df-quickchart-complete:disabled:hover {\n",
              "    background-color: var(--disabled-bg-color);\n",
              "    fill: var(--disabled-fill-color);\n",
              "    box-shadow: none;\n",
              "  }\n",
              "\n",
              "  .colab-df-spinner {\n",
              "    border: 2px solid var(--fill-color);\n",
              "    border-color: transparent;\n",
              "    border-bottom-color: var(--fill-color);\n",
              "    animation:\n",
              "      spin 1s steps(1) infinite;\n",
              "  }\n",
              "\n",
              "  @keyframes spin {\n",
              "    0% {\n",
              "      border-color: transparent;\n",
              "      border-bottom-color: var(--fill-color);\n",
              "      border-left-color: var(--fill-color);\n",
              "    }\n",
              "    20% {\n",
              "      border-color: transparent;\n",
              "      border-left-color: var(--fill-color);\n",
              "      border-top-color: var(--fill-color);\n",
              "    }\n",
              "    30% {\n",
              "      border-color: transparent;\n",
              "      border-left-color: var(--fill-color);\n",
              "      border-top-color: var(--fill-color);\n",
              "      border-right-color: var(--fill-color);\n",
              "    }\n",
              "    40% {\n",
              "      border-color: transparent;\n",
              "      border-right-color: var(--fill-color);\n",
              "      border-top-color: var(--fill-color);\n",
              "    }\n",
              "    60% {\n",
              "      border-color: transparent;\n",
              "      border-right-color: var(--fill-color);\n",
              "    }\n",
              "    80% {\n",
              "      border-color: transparent;\n",
              "      border-right-color: var(--fill-color);\n",
              "      border-bottom-color: var(--fill-color);\n",
              "    }\n",
              "    90% {\n",
              "      border-color: transparent;\n",
              "      border-bottom-color: var(--fill-color);\n",
              "    }\n",
              "  }\n",
              "</style>\n",
              "\n",
              "  <script>\n",
              "    async function quickchart(key) {\n",
              "      const quickchartButtonEl =\n",
              "        document.querySelector('#' + key + ' button');\n",
              "      quickchartButtonEl.disabled = true;  // To prevent multiple clicks.\n",
              "      quickchartButtonEl.classList.add('colab-df-spinner');\n",
              "      try {\n",
              "        const charts = await google.colab.kernel.invokeFunction(\n",
              "            'suggestCharts', [key], {});\n",
              "      } catch (error) {\n",
              "        console.error('Error during call to suggestCharts:', error);\n",
              "      }\n",
              "      quickchartButtonEl.classList.remove('colab-df-spinner');\n",
              "      quickchartButtonEl.classList.add('colab-df-quickchart-complete');\n",
              "    }\n",
              "    (() => {\n",
              "      let quickchartButtonEl =\n",
              "        document.querySelector('#df-d12e90a4-811b-4052-86d8-25100f5cc482 button');\n",
              "      quickchartButtonEl.style.display =\n",
              "        google.colab.kernel.accessAllowed ? 'block' : 'none';\n",
              "    })();\n",
              "  </script>\n",
              "</div>\n",
              "    </div>\n",
              "  </div>\n"
            ]
          },
          "metadata": {},
          "execution_count": 1
        }
      ]
    },
    {
      "cell_type": "markdown",
      "source": [
        "'sekino'（関之尾の滝の検索回数）の予測モデルの構築に先立って、まず、散布図行列を作成し、データの特徴をつかみます。"
      ],
      "metadata": {
        "id": "hPC7Zt3zB7tK"
      }
    },
    {
      "cell_type": "code",
      "source": [
        "import seaborn as sns\n",
        "import matplotlib.pyplot as plt\n",
        "\n",
        "# Selecting the relevant columns for the scatter plot matrix\n",
        "columns_to_plot = data[['tuki', 'sekino', 'takatihob']]\n",
        "\n",
        "# Create a pairplot (scatter plot matrix) for the selected columns\n",
        "sns.pairplot(columns_to_plot)\n",
        "\n",
        "# Show the plot\n",
        "plt.show()"
      ],
      "metadata": {
        "colab": {
          "base_uri": "https://localhost:8080/",
          "height": 758
        },
        "id": "q4jpPmClBkfe",
        "outputId": "2d62c1ed-dd24-461b-b11e-981bd4edd26b"
      },
      "execution_count": 2,
      "outputs": [
        {
          "output_type": "display_data",
          "data": {
            "text/plain": [
              "<Figure size 750x750 with 12 Axes>"
            ],
            "image/png": "[encoded data removed]"
          },
          "metadata": {}
        }
      ]
    },
    {
      "cell_type": "markdown",
      "source": [
        "散布図行列を見て、'sekino'（関之尾の滝の検索回数）が'tuki'（月）と'takatihob'（高千穂牧場の検索回数）から予測できそうか見当をつけます。\n",
        "\n",
        "また、'tuki'（月）と'takatihob'（高千穂牧場の検索回数）が互いに冗長でないかもチェックします。"
      ],
      "metadata": {
        "id": "AH6XtWOPDavh"
      }
    },
    {
      "cell_type": "markdown",
      "source": [
        "# 重回帰分析による予測"
      ],
      "metadata": {
        "id": "7pud7v1ZFrtb"
      }
    },
    {
      "cell_type": "markdown",
      "source": [
        "## モデルの当てはまりの良さの評価"
      ],
      "metadata": {
        "id": "LVdx7XTwP4Wd"
      }
    },
    {
      "cell_type": "markdown",
      "source": [
        "重回帰分析では、データがモデルにどれくらいよく当てはまっているかを決定係数で評価することが多いのですが、ここでは、他のモデルとの性能比較ができるように、**平均二乗誤差**（**MSE**: Mean Squared Error）で評価しましょう。\n",
        "\n",
        "MSEは、『「予測値と正解値の差（＝誤差）」の二乗値』の平均です。\n",
        "\n",
        "学習データに基づく予測モデルの評価では、**学習データ**に対する平均二乗誤差ではなく、初めて見た**テストデータ**に対する平均二乗誤差で評価します。学習データが共通に持つ性質をとらえて（それと同様の性質を持つが）初めて見たデータに応用できるかが知りたいからです。学習データ（教科書の問題とその答）を丸暗記しただけでは新しい問題に対応できません。内容を理解していて新しい問題に対応できるかどうかを見たいのです。テストデータを用いた評価は、実力テストみたいなものです。\n",
        "\n",
        "テストデータの数が少ない（実力テストの問題数が少ない）と、たまたまできたり／できなかったりして、本当の実力と違う結果が出ることがあります。これをなるべく避けるために、テストデータの数を増やしたのと同じような効果がある方法（**交差検証（クロスバリデーション）**）が工夫されているので、ここでは、それを使います。"
      ],
      "metadata": {
        "id": "Jp5L0yGuNM16"
      }
    },
    {
      "cell_type": "markdown",
      "source": [
        "## 重回帰分析による予測と評価"
      ],
      "metadata": {
        "id": "KQk_kmYBYK_V"
      }
    },
    {
      "cell_type": "code",
      "source": [
        "from sklearn.model_selection import cross_val_score\n",
        "from sklearn.linear_model import LinearRegression\n",
        "from sklearn.metrics import mean_squared_error\n",
        "import numpy as np\n",
        "\n",
        "# データ中の関連する列の選択\n",
        "X = data[['tuki', 'takatihob']]  # Features: tuki, takatihob\n",
        "y = data['sekino']  # Target: sekino\n",
        "\n",
        "# Creating a new Linear Regression model for cross-validation\n",
        "model_cv = LinearRegression()\n",
        "\n",
        "# Performing 10-fold cross-validation\n",
        "# 'neg_mean_squared_error' is used to calculate MSE for each fold\n",
        "scores = cross_val_score(model_cv, X, y, cv=10, scoring='neg_mean_squared_error')\n",
        "\n",
        "# Converting scores to positive values (as they are negated by default)\n",
        "mse_scores = -scores\n",
        "\n",
        "# Calculating average MSE across all folds\n",
        "average_mse = np.mean(mse_scores)\n",
        "\n",
        "# Displaying the MSE for each fold and the average MSE\n",
        "mse_scores, average_mse"
      ],
      "metadata": {
        "colab": {
          "base_uri": "https://localhost:8080/"
        },
        "id": "RRNlKFERiQA8",
        "outputId": "355c7841-1048-4494-c80b-47164394e8fe"
      },
      "execution_count": 4,
      "outputs": [
        {
          "output_type": "execute_result",
          "data": {
            "text/plain": [
              "(array([ 42.79721801,  30.16562878,  32.82000228,  34.59494688,\n",
              "         61.37575103, 196.4565094 ,  68.18398009,  13.91875005,\n",
              "         42.13338616,  32.6212111 ]),\n",
              " 55.50673837828474)"
            ]
          },
          "metadata": {},
          "execution_count": 4
        }
      ]
    },
    {
      "cell_type": "markdown",
      "source": [
        "# 特徴量エンジニアリング"
      ],
      "metadata": {
        "id": "FLaDgfkAYT2X"
      }
    },
    {
      "cell_type": "markdown",
      "source": [
        "「月」は、1から12までの値をとりますが、1月と12月は数字の大きさは大きく異なりますが、12月の次は1月ですから実は隣接している関係にあります。この隣接関係を反映した特徴量を新たに設計して追加してみましょう。12月と1月が隣であることが分かると予測しやすくなり、平均二乗誤差が減るかもしれません。このように特徴量を工夫することを特徴量エンジニアリングといいます。\n",
        "\n",
        "時計の文字盤上の1から12までの配置は、12の次は1という性質を満たしているので、特徴量として良さそうに思えます。1から12を1次元の特徴量でなく、2次元の特徴量（平面上の座標値）とすることでこれが実現できます。具体的には、次のように新しい特徴量を作成します。\n",
        "\n",
        "'tuki_cos' = cos(2π × 'tuki' / 12)\n",
        "\n",
        "'tuki_sin' = sin(2π × 'tuki' / 12)\n",
        "\n",
        "以下に tuki_cos と tuki_sin の散布図を示します。"
      ],
      "metadata": {
        "id": "mWadB3e-ZkDp"
      }
    },
    {
      "cell_type": "code",
      "source": [
        "!pip install japanize-matplotlib"
      ],
      "metadata": {
        "id": "1wrONRqShqIO"
      },
      "execution_count": null,
      "outputs": []
    },
    {
      "cell_type": "code",
      "source": [
        "import matplotlib.pyplot as plt\n",
        "import japanize_matplotlib\n",
        "import numpy as np\n",
        "\n",
        "# 月(tuki)の値を1から12までの整数とする\n",
        "tuki_values = np.arange(1, 13)\n",
        "\n",
        "# tuki_cosとtuki_sinの計算\n",
        "tuki_cos = np.cos(2 * np.pi * tuki_values / 12)\n",
        "tuki_sin = np.sin(2 * np.pi * tuki_values / 12)\n",
        "\n",
        "# 散布図の作成\n",
        "plt.figure(figsize=(5, 5))\n",
        "plt.scatter(tuki_cos, tuki_sin)\n",
        "\n",
        "# 各点に月(tuki)のラベルを付ける\n",
        "for i, tuki in enumerate(tuki_values):\n",
        "    plt.text(tuki_cos[i], tuki_sin[i], str(tuki), fontsize=12)\n",
        "\n",
        "plt.title('tuki_cos と tuki_sin の散布図')\n",
        "plt.xlabel('tuki_cos')\n",
        "plt.ylabel('tuki_sin')\n",
        "plt.grid(True)\n",
        "plt.show()"
      ],
      "metadata": {
        "colab": {
          "base_uri": "https://localhost:8080/",
          "height": 484
        },
        "id": "oIgen-cnhKOG",
        "outputId": "27cbe5dd-43a0-472a-d5a7-0c37ce27fa41"
      },
      "execution_count": 6,
      "outputs": [
        {
          "output_type": "display_data",
          "data": {
            "text/plain": [
              "<Figure size 500x500 with 1 Axes>"
            ],
            "image/png": "[encoded data removed]"
          },
          "metadata": {}
        }
      ]
    },
    {
      "cell_type": "markdown",
      "source": [
        "\n",
        "データに'tuki_cos'と'tuki_sin'の列を追加し、新しいCSVファイルに格納\n"
      ],
      "metadata": {
        "id": "azqAiPZHcL3s"
      }
    },
    {
      "cell_type": "code",
      "source": [
        "import numpy as np\n",
        "import pandas as pd\n",
        "\n",
        "# CSVファイルを読み込む\n",
        "file_path = '/content/drive/MyDrive/Colab_files/sekitotaka.csv'\n",
        "data = pd.read_csv(file_path)\n",
        "\n",
        "# 'tuki_cos'と'tuki_sin'を計算し、dataにこの2列を追加\n",
        "data['tuki_cos'] = np.cos(2 * np.pi * data['tuki'] / 12)\n",
        "data['tuki_sin'] = np.sin(2 * np.pi * data['tuki'] / 12)\n",
        "\n",
        "# 更新されたデータフレームを新しいCSVファイルに保存\n",
        "updated_file_path = '/content/drive/MyDrive/Colab_files/sekitotaka_updated.csv'\n",
        "data.to_csv(updated_file_path, index=False)\n",
        "\n",
        "data.head()"
      ],
      "metadata": {
        "colab": {
          "base_uri": "https://localhost:8080/",
          "height": 206
        },
        "id": "b3wUSfCPYt57",
        "outputId": "616b7754-38b5-459e-e8ee-6e1c2f364deb"
      },
      "execution_count": 7,
      "outputs": [
        {
          "output_type": "execute_result",
          "data": {
            "text/plain": [
              "    nen  tuki  sekino  takatihob  tuki_cos      tuki_sin\n",
              "0  2014     4      12         40 -0.500000  8.660254e-01\n",
              "1  2014     5      17         79 -0.866025  5.000000e-01\n",
              "2  2014     6       8         27 -1.000000  1.224647e-16\n",
              "3  2014     7      16         33 -0.866025 -5.000000e-01\n",
              "4  2014     8      17         50 -0.500000 -8.660254e-01"
            ],
            "text/html": [
              "\n",
              "  <div id=\"df-73f9e5fd-2937-4300-8e3b-d662bc54d288\" class=\"colab-df-container\">\n",
              "    <div>\n",
              "<style scoped>\n",
              "    .dataframe tbody tr th:only-of-type {\n",
              "        vertical-align: middle;\n",
              "    }\n",
              "\n",
              "    .dataframe tbody tr th {\n",
              "        vertical-align: top;\n",
              "    }\n",
              "\n",
              "    .dataframe thead th {\n",
              "        text-align: right;\n",
              "    }\n",
              "</style>\n",
              "<table border=\"1\" class=\"dataframe\">\n",
              "  <thead>\n",
              "    <tr style=\"text-align: right;\">\n",
              "      <th></th>\n",
              "      <th>nen</th>\n",
              "      <th>tuki</th>\n",
              "      <th>sekino</th>\n",
              "      <th>takatihob</th>\n",
              "      <th>tuki_cos</th>\n",
              "      <th>tuki_sin</th>\n",
              "    </tr>\n",
              "  </thead>\n",
              "  <tbody>\n",
              "    <tr>\n",
              "      <th>0</th>\n",
              "      <td>2014</td>\n",
              "      <td>4</td>\n",
              "      <td>12</td>\n",
              "      <td>40</td>\n",
              "      <td>-0.500000</td>\n",
              "      <td>8.660254e-01</td>\n",
              "    </tr>\n",
              "    <tr>\n",
              "      <th>1</th>\n",
              "      <td>2014</td>\n",
              "      <td>5</td>\n",
              "      <td>17</td>\n",
              "      <td>79</td>\n",
              "      <td>-0.866025</td>\n",
              "      <td>5.000000e-01</td>\n",
              "    </tr>\n",
              "    <tr>\n",
              "      <th>2</th>\n",
              "      <td>2014</td>\n",
              "      <td>6</td>\n",
              "      <td>8</td>\n",
              "      <td>27</td>\n",
              "      <td>-1.000000</td>\n",
              "      <td>1.224647e-16</td>\n",
              "    </tr>\n",
              "    <tr>\n",
              "      <th>3</th>\n",
              "      <td>2014</td>\n",
              "      <td>7</td>\n",
              "      <td>16</td>\n",
              "      <td>33</td>\n",
              "      <td>-0.866025</td>\n",
              "      <td>-5.000000e-01</td>\n",
              "    </tr>\n",
              "    <tr>\n",
              "      <th>4</th>\n",
              "      <td>2014</td>\n",
              "      <td>8</td>\n",
              "      <td>17</td>\n",
              "      <td>50</td>\n",
              "      <td>-0.500000</td>\n",
              "      <td>-8.660254e-01</td>\n",
              "    </tr>\n",
              "  </tbody>\n",
              "</table>\n",
              "</div>\n",
              "    <div class=\"colab-df-buttons\">\n",
              "\n",
              "  <div class=\"colab-df-container\">\n",
              "    <button class=\"colab-df-convert\" onclick=\"convertToInteractive('df-73f9e5fd-2937-4300-8e3b-d662bc54d288')\"\n",
              "            title=\"Convert this dataframe to an interactive table.\"\n",
              "            style=\"display:none;\">\n",
              "\n",
              "  <svg xmlns=\"http://www.w3.org/2000/svg\" height=\"24px\" viewBox=\"0 -960 960 960\">\n",
              "    <path d=\"M120-120v-720h720v720H120Zm60-500h600v-160H180v160Zm220 220h160v-160H400v160Zm0 220h160v-160H400v160ZM180-400h160v-160H180v160Zm440 0h160v-160H620v160ZM180-180h160v-160H180v160Zm440 0h160v-160H620v160Z\"/>\n",
              "  </svg>\n",
              "    </button>\n",
              "\n",
              "  <style>\n",
              "    .colab-df-container {\n",
              "      display:flex;\n",
              "      gap: 12px;\n",
              "    }\n",
              "\n",
              "    .colab-df-convert {\n",
              "      background-color: #E8F0FE;\n",
              "      border: none;\n",
              "      border-radius: 50%;\n",
              "      cursor: pointer;\n",
              "      display: none;\n",
              "      fill: #1967D2;\n",
              "      height: 32px;\n",
              "      padding: 0 0 0 0;\n",
              "      width: 32px;\n",
              "    }\n",
              "\n",
              "    .colab-df-convert:hover {\n",
              "      background-color: #E2EBFA;\n",
              "      box-shadow: 0px 1px 2px rgba(60, 64, 67, 0.3), 0px 1px 3px 1px rgba(60, 64, 67, 0.15);\n",
              "      fill: #174EA6;\n",
              "    }\n",
              "\n",
              "    .colab-df-buttons div {\n",
              "      margin-bottom: 4px;\n",
              "    }\n",
              "\n",
              "    [theme=dark] .colab-df-convert {\n",
              "      background-color: #3B4455;\n",
              "      fill: #D2E3FC;\n",
              "    }\n",
              "\n",
              "    [theme=dark] .colab-df-convert:hover {\n",
              "      background-color: #434B5C;\n",
              "      box-shadow: 0px 1px 3px 1px rgba(0, 0, 0, 0.15);\n",
              "      filter: drop-shadow(0px 1px 2px rgba(0, 0, 0, 0.3));\n",
              "      fill: #FFFFFF;\n",
              "    }\n",
              "  </style>\n",
              "\n",
              "    <script>\n",
              "      const buttonEl =\n",
              "        document.querySelector('#df-73f9e5fd-2937-4300-8e3b-d662bc54d288 button.colab-df-convert');\n",
              "      buttonEl.style.display =\n",
              "        google.colab.kernel.accessAllowed ? 'block' : 'none';\n",
              "\n",
              "      async function convertToInteractive(key) {\n",
              "        const element = document.querySelector('#df-73f9e5fd-2937-4300-8e3b-d662bc54d288');\n",
              "        const dataTable =\n",
              "          await google.colab.kernel.invokeFunction('convertToInteractive',\n",
              "                                                    [key], {});\n",
              "        if (!dataTable) return;\n",
              "\n",
              "        const docLinkHtml = 'Like what you see? Visit the ' +\n",
              "          '<a target=\"_blank\" href=https://colab.research.google.com/notebooks/data_table.ipynb>data table notebook</a>'\n",
              "          + ' to learn more about interactive tables.';\n",
              "        element.innerHTML = '';\n",
              "        dataTable['output_type'] = 'display_data';\n",
              "        await google.colab.output.renderOutput(dataTable, element);\n",
              "        const docLink = document.createElement('div');\n",
              "        docLink.innerHTML = docLinkHtml;\n",
              "        element.appendChild(docLink);\n",
              "      }\n",
              "    </script>\n",
              "  </div>\n",
              "\n",
              "\n",
              "<div id=\"df-a76f1e54-c204-414a-9db4-d399f2dcf85d\">\n",
              "  <button class=\"colab-df-quickchart\" onclick=\"quickchart('df-a76f1e54-c204-414a-9db4-d399f2dcf85d')\"\n",
              "            title=\"Suggest charts\"\n",
              "            style=\"display:none;\">\n",
              "\n",
              "<svg xmlns=\"http://www.w3.org/2000/svg\" height=\"24px\"viewBox=\"0 0 24 24\"\n",
              "     width=\"24px\">\n",
              "    <g>\n",
              "        <path d=\"M19 3H5c-1.1 0-2 .9-2 2v14c0 1.1.9 2 2 2h14c1.1 0 2-.9 2-2V5c0-1.1-.9-2-2-2zM9 17H7v-7h2v7zm4 0h-2V7h2v10zm4 0h-2v-4h2v4z\"/>\n",
              "    </g>\n",
              "</svg>\n",
              "  </button>\n",
              "\n",
              "<style>\n",
              "  .colab-df-quickchart {\n",
              "      --bg-color: #E8F0FE;\n",
              "      --fill-color: #1967D2;\n",
              "      --hover-bg-color: #E2EBFA;\n",
              "      --hover-fill-color: #174EA6;\n",
              "      --disabled-fill-color: #AAA;\n",
              "      --disabled-bg-color: #DDD;\n",
              "  }\n",
              "\n",
              "  [theme=dark] .colab-df-quickchart {\n",
              "      --bg-color: #3B4455;\n",
              "      --fill-color: #D2E3FC;\n",
              "      --hover-bg-color: #434B5C;\n",
              "      --hover-fill-color: #FFFFFF;\n",
              "      --disabled-bg-color: #3B4455;\n",
              "      --disabled-fill-color: #666;\n",
              "  }\n",
              "\n",
              "  .colab-df-quickchart {\n",
              "    background-color: var(--bg-color);\n",
              "    border: none;\n",
              "    border-radius: 50%;\n",
              "    cursor: pointer;\n",
              "    display: none;\n",
              "    fill: var(--fill-color);\n",
              "    height: 32px;\n",
              "    padding: 0;\n",
              "    width: 32px;\n",
              "  }\n",
              "\n",
              "  .colab-df-quickchart:hover {\n",
              "    background-color: var(--hover-bg-color);\n",
              "    box-shadow: 0 1px 2px rgba(60, 64, 67, 0.3), 0 1px 3px 1px rgba(60, 64, 67, 0.15);\n",
              "    fill: var(--button-hover-fill-color);\n",
              "  }\n",
              "\n",
              "  .colab-df-quickchart-complete:disabled,\n",
              "  .colab-df-quickchart-complete:disabled:hover {\n",
              "    background-color: var(--disabled-bg-color);\n",
              "    fill: var(--disabled-fill-color);\n",
              "    box-shadow: none;\n",
              "  }\n",
              "\n",
              "  .colab-df-spinner {\n",
              "    border: 2px solid var(--fill-color);\n",
              "    border-color: transparent;\n",
              "    border-bottom-color: var(--fill-color);\n",
              "    animation:\n",
              "      spin 1s steps(1) infinite;\n",
              "  }\n",
              "\n",
              "  @keyframes spin {\n",
              "    0% {\n",
              "      border-color: transparent;\n",
              "      border-bottom-color: var(--fill-color);\n",
              "      border-left-color: var(--fill-color);\n",
              "    }\n",
              "    20% {\n",
              "      border-color: transparent;\n",
              "      border-left-color: var(--fill-color);\n",
              "      border-top-color: var(--fill-color);\n",
              "    }\n",
              "    30% {\n",
              "      border-color: transparent;\n",
              "      border-left-color: var(--fill-color);\n",
              "      border-top-color: var(--fill-color);\n",
              "      border-right-color: var(--fill-color);\n",
              "    }\n",
              "    40% {\n",
              "      border-color: transparent;\n",
              "      border-right-color: var(--fill-color);\n",
              "      border-top-color: var(--fill-color);\n",
              "    }\n",
              "    60% {\n",
              "      border-color: transparent;\n",
              "      border-right-color: var(--fill-color);\n",
              "    }\n",
              "    80% {\n",
              "      border-color: transparent;\n",
              "      border-right-color: var(--fill-color);\n",
              "      border-bottom-color: var(--fill-color);\n",
              "    }\n",
              "    90% {\n",
              "      border-color: transparent;\n",
              "      border-bottom-color: var(--fill-color);\n",
              "    }\n",
              "  }\n",
              "</style>\n",
              "\n",
              "  <script>\n",
              "    async function quickchart(key) {\n",
              "      const quickchartButtonEl =\n",
              "        document.querySelector('#' + key + ' button');\n",
              "      quickchartButtonEl.disabled = true;  // To prevent multiple clicks.\n",
              "      quickchartButtonEl.classList.add('colab-df-spinner');\n",
              "      try {\n",
              "        const charts = await google.colab.kernel.invokeFunction(\n",
              "            'suggestCharts', [key], {});\n",
              "      } catch (error) {\n",
              "        console.error('Error during call to suggestCharts:', error);\n",
              "      }\n",
              "      quickchartButtonEl.classList.remove('colab-df-spinner');\n",
              "      quickchartButtonEl.classList.add('colab-df-quickchart-complete');\n",
              "    }\n",
              "    (() => {\n",
              "      let quickchartButtonEl =\n",
              "        document.querySelector('#df-a76f1e54-c204-414a-9db4-d399f2dcf85d button');\n",
              "      quickchartButtonEl.style.display =\n",
              "        google.colab.kernel.accessAllowed ? 'block' : 'none';\n",
              "    })();\n",
              "  </script>\n",
              "</div>\n",
              "    </div>\n",
              "  </div>\n"
            ]
          },
          "metadata": {},
          "execution_count": 7
        }
      ]
    },
    {
      "cell_type": "markdown",
      "source": [
        "## 可視化"
      ],
      "metadata": {
        "id": "FKFB9Jaof_-R"
      }
    },
    {
      "cell_type": "code",
      "source": [
        "import seaborn as sns\n",
        "import matplotlib.pyplot as plt\n",
        "\n",
        "# Selecting the relevant columns for the scatter plot matrix\n",
        "columns_to_plot = data[['tuki_cos', 'tuki_sin', 'sekino', 'takatihob']]\n",
        "\n",
        "# Create a pairplot (scatter plot matrix) for the selected columns\n",
        "sns.pairplot(columns_to_plot)\n",
        "\n",
        "# Show the plot\n",
        "plt.show()"
      ],
      "metadata": {
        "colab": {
          "base_uri": "https://localhost:8080/",
          "height": 998
        },
        "id": "OpBk3Es3gT02",
        "outputId": "96865e75-6871-46a8-cf7d-a5bbb8e97d9c"
      },
      "execution_count": 8,
      "outputs": [
        {
          "output_type": "display_data",
          "data": {
            "text/plain": [
              "<Figure size 1000x1000 with 20 Axes>"
            ],
            "image/png": "[encoded data removed]"
          },
          "metadata": {}
        }
      ]
    },
    {
      "cell_type": "markdown",
      "source": [
        "## 重回帰分析（特徴量エンジニアリング前後の比較）"
      ],
      "metadata": {
        "id": "zkKriEhtgyVL"
      }
    },
    {
      "cell_type": "code",
      "source": [
        "from sklearn.model_selection import cross_val_score\n",
        "from sklearn.linear_model import LinearRegression\n",
        "from sklearn.metrics import mean_squared_error\n",
        "import numpy as np\n",
        "\n",
        "# データ中の関連する列の選択\n",
        "X_original = data[['tuki', 'takatihob']]\n",
        "X = data[['tuki_cos', 'tuki_sin', 'takatihob']]  # Features: tuki, takatihob\n",
        "y = data['sekino']  # Target: sekino\n",
        "\n",
        "# Creating a new Linear Regression model for cross-validation\n",
        "model_cv = LinearRegression()\n",
        "\n",
        "# Performing 10-fold cross-validation\n",
        "# 'neg_mean_squared_error' is used to calculate MSE for each fold\n",
        "scores_original = cross_val_score(model_cv, X_original, y, cv=10, scoring='neg_mean_squared_error')\n",
        "scores = cross_val_score(model_cv, X, y, cv=10, scoring='neg_mean_squared_error')\n",
        "\n",
        "# Converting scores to positive values (as they are negated by default)\n",
        "mse_scores_original = -scores_original\n",
        "mse_scores = -scores\n",
        "\n",
        "# Calculating average MSE across all folds\n",
        "average_mse_original = np.mean(mse_scores_original)\n",
        "average_mse = np.mean(mse_scores)\n",
        "\n",
        "# Displaying the MSE for each fold and the average MSE\n",
        "print('before: ', mse_scores_original, average_mse_original)\n",
        "print('after: ', mse_scores, average_mse)"
      ],
      "metadata": {
        "colab": {
          "base_uri": "https://localhost:8080/"
        },
        "id": "7M5i2cbvjpD_",
        "outputId": "7e47e4ec-6bae-428c-9005-fbaa030c1af9"
      },
      "execution_count": 13,
      "outputs": [
        {
          "output_type": "stream",
          "name": "stdout",
          "text": [
            "before:  [ 42.79721801  30.16562878  32.82000228  34.59494688  61.37575103\n",
            " 196.4565094   68.18398009  13.91875005  42.13338616  32.6212111 ] 55.50673837828474\n",
            "after:  [ 46.4323825   36.98509387  25.139179    40.12797391  77.47281589\n",
            " 216.66487408  81.74644089  15.01294967  34.39658547  20.90629451] 59.488458978977235\n"
          ]
        }
      ]
    },
    {
      "cell_type": "markdown",
      "source": [
        "## 階層型ニューラルネットワークによる予測（特徴量エンジニアリング前後の比較）"
      ],
      "metadata": {
        "id": "mry89dy41cGz"
      }
    },
    {
      "cell_type": "markdown",
      "source": [
        "階層型ニューラルネットワーク（特徴量エンジニアリング前；学習回数と隠れ層（１層だけ）のニューロン数をある程度調整）"
      ],
      "metadata": {
        "id": "oxqZ9l7F19KR"
      }
    },
    {
      "cell_type": "code",
      "source": [
        "from sklearn.neural_network import MLPRegressor\n",
        "from sklearn.preprocessing import StandardScaler\n",
        "from sklearn.pipeline import make_pipeline\n",
        "\n",
        "# Creating a Feedforward Neural Network model\n",
        "# Using a pipeline to standardize features before feeding them to the neural network\n",
        "nn_model = make_pipeline(StandardScaler(), MLPRegressor(random_state=42, max_iter=2250, hidden_layer_sizes=30))\n",
        "\n",
        "# Performing 10-fold cross-validation on the original dataset with Neural Network\n",
        "nn_scores_original = cross_val_score(nn_model, X_original, y, cv=10, scoring='neg_mean_squared_error')\n",
        "nn_mse_scores_original = -nn_scores_original\n",
        "nn_average_mse_original = np.mean(nn_mse_scores_original)\n",
        "\n",
        "# Displaying the MSE for each fold and the average MSE\n",
        "print('before: ', nn_mse_scores_original, nn_average_mse_original)"
      ],
      "metadata": {
        "id": "xKBpNL1r192k"
      },
      "execution_count": null,
      "outputs": []
    },
    {
      "cell_type": "markdown",
      "source": [
        "階層型ニューラルネットワーク（特徴量エンジニアリング後；学習回数と隠れ層（１層だけ）のニューロン数をある程度調整）"
      ],
      "metadata": {
        "id": "6HxtWvgV2Egj"
      }
    },
    {
      "cell_type": "code",
      "source": [
        "from sklearn.neural_network import MLPRegressor\n",
        "from sklearn.preprocessing import StandardScaler\n",
        "from sklearn.pipeline import make_pipeline\n",
        "\n",
        "# Creating a Feedforward Neural Network model\n",
        "# Using a pipeline to standardize features before feeding them to the neural network\n",
        "nn_model = make_pipeline(StandardScaler(), MLPRegressor(random_state=42, max_iter=3000, hidden_layer_sizes=40))\n",
        "\n",
        "# Performing 10-fold cross-validation on the dataset with cyclically encoded month features using Neural Network\n",
        "nn_scores = cross_val_score(nn_model, X, y, cv=10, scoring='neg_mean_squared_error')\n",
        "nn_mse_scores = -nn_scores\n",
        "nn_average_mse = np.mean(nn_mse_scores)\n",
        "\n",
        "# Displaying the MSE for each fold and the average MSE\n",
        "print('after: ', nn_mse_scores, nn_average_mse)"
      ],
      "metadata": {
        "id": "OiNWJvKx2FEQ"
      },
      "execution_count": null,
      "outputs": []
    },
    {
      "cell_type": "markdown",
      "source": [
        "## （参考）その他のモデル（パラメータ調整は未実施）との比較"
      ],
      "metadata": {
        "id": "htRUHqJJ2yBU"
      }
    },
    {
      "cell_type": "markdown",
      "source": [
        "（参考）ランダムフォレストとグラディエントブースティング（特徴量エンジニアリング前；パラメータ調整なし）"
      ],
      "metadata": {
        "id": "WGWzLvU1wjBp"
      }
    },
    {
      "cell_type": "code",
      "source": [
        "from sklearn.ensemble import RandomForestRegressor, GradientBoostingRegressor\n",
        "\n",
        "# Creating RandomForest and GradientBoosting models\n",
        "rf_model = RandomForestRegressor(random_state=42)\n",
        "gb_model = GradientBoostingRegressor(random_state=42)\n",
        "\n",
        "# Performing 10-fold cross-validation on the original dataset with RandomForest\n",
        "rf_scores_original = cross_val_score(rf_model, X_original, y, cv=10, scoring='neg_mean_squared_error')\n",
        "rf_mse_scores_original = -rf_scores_original\n",
        "rf_average_mse_original = np.mean(rf_mse_scores_original)\n",
        "\n",
        "# Performing 10-fold cross-validation on the original dataset with GradientBoosting\n",
        "gb_scores_original = cross_val_score(gb_model, X_original, y, cv=10, scoring='neg_mean_squared_error')\n",
        "gb_mse_scores_original = -gb_scores_original\n",
        "gb_average_mse_original = np.mean(gb_mse_scores_original)\n",
        "\n",
        "rf_average_mse_original, gb_average_mse_original  # RandomForest MSE, GradientBoosting MSE"
      ],
      "metadata": {
        "colab": {
          "base_uri": "https://localhost:8080/"
        },
        "id": "a-nwrnhNVvB8",
        "outputId": "bcb1a8dc-5c66-4d43-d246-6b8b93644ccf"
      },
      "execution_count": 14,
      "outputs": [
        {
          "output_type": "execute_result",
          "data": {
            "text/plain": [
              "(59.201239583333326, 77.28762536968091)"
            ]
          },
          "metadata": {},
          "execution_count": 14
        }
      ]
    },
    {
      "cell_type": "markdown",
      "source": [
        "（参考）ランダムフォレストとグラディエントブースティング（特徴量エンジニアリング後；パラメータ調整なし）"
      ],
      "metadata": {
        "id": "4Ug0BndixBjO"
      }
    },
    {
      "cell_type": "code",
      "source": [
        "# Performing 10-fold cross-validation on the dataset with cyclically encoded month features using RandomForest\n",
        "rf_scores = cross_val_score(rf_model, X, y, cv=10, scoring='neg_mean_squared_error')\n",
        "rf_mse_scores = -rf_scores\n",
        "rf_average_mse = np.mean(rf_mse_scores)\n",
        "\n",
        "# Performing 10-fold cross-validation on the dataset with cyclically encoded month features using GradientBoosting\n",
        "gb_scores = cross_val_score(gb_model, X, y, cv=10, scoring='neg_mean_squared_error')\n",
        "gb_mse_scores = -gb_scores\n",
        "gb_average_mse = np.mean(gb_mse_scores)\n",
        "\n",
        "rf_average_mse, gb_average_mse  # RandomForest MSE, GradientBoosting MSE after feature engineering"
      ],
      "metadata": {
        "colab": {
          "base_uri": "https://localhost:8080/"
        },
        "id": "n0J_idsBV3Wj",
        "outputId": "82183e5d-5b72-4dcf-a734-4548e0a4e3b4"
      },
      "execution_count": 15,
      "outputs": [
        {
          "output_type": "execute_result",
          "data": {
            "text/plain": [
              "(61.62318194444443, 80.3724448897617)"
            ]
          },
          "metadata": {},
          "execution_count": 15
        }
      ]
    },
    {
      "cell_type": "markdown",
      "source": [
        "（参考）k最近傍法（特徴量エンジニアリング前後；パラメータ調整なし）"
      ],
      "metadata": {
        "id": "KzjS4VOY0-JA"
      }
    },
    {
      "cell_type": "code",
      "source": [
        "from sklearn.neighbors import KNeighborsRegressor\n",
        "\n",
        "# Creating a KNeighborsRegressor model\n",
        "knn_model = KNeighborsRegressor()\n",
        "\n",
        "# Performing 10-fold cross-validation on the original dataset with KNeighborsRegressor\n",
        "knn_scores_original = cross_val_score(knn_model, X_original, y, cv=10, scoring='neg_mean_squared_error')\n",
        "knn_mse_scores_original = -knn_scores_original\n",
        "knn_average_mse_original = np.mean(knn_mse_scores_original)\n",
        "\n",
        "# Performing 10-fold cross-validation on the dataset with cyclically encoded month features using KNeighborsRegressor\n",
        "knn_scores = cross_val_score(knn_model, X, y, cv=10, scoring='neg_mean_squared_error')\n",
        "knn_mse_scores = -knn_scores\n",
        "knn_average_mse = np.mean(knn_mse_scores)\n",
        "\n",
        "knn_average_mse_original, knn_average_mse  # KNeighborsRegressor MSE before and after feature engineering"
      ],
      "metadata": {
        "colab": {
          "base_uri": "https://localhost:8080/"
        },
        "id": "J4opCRngXFRA",
        "outputId": "d2550dc8-09ae-436d-df0d-08e26645632e"
      },
      "execution_count": 16,
      "outputs": [
        {
          "output_type": "execute_result",
          "data": {
            "text/plain": [
              "(69.112, 68.77000000000001)"
            ]
          },
          "metadata": {},
          "execution_count": 16
        }
      ]
    }
  ]
}